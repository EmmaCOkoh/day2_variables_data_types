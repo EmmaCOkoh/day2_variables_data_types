{
 "cells": [
  {
   "cell_type": "code",
   "execution_count": 1,
   "id": "4a808f00-569f-4622-a940-d08775c62842",
   "metadata": {},
   "outputs": [
    {
     "name": "stdout",
     "output_type": "stream",
     "text": [
      "Emmanuel\n"
     ]
    }
   ],
   "source": [
    "name = \"Emmanuel\"\n",
    "print(name)"
   ]
  },
  {
   "cell_type": "code",
   "execution_count": 2,
   "id": "d78453a4-90f7-4424-bac6-8e935cca7055",
   "metadata": {},
   "outputs": [
    {
     "name": "stdout",
     "output_type": "stream",
     "text": [
      "29\n"
     ]
    }
   ],
   "source": [
    "age = 29\n",
    "print(age)"
   ]
  },
  {
   "cell_type": "code",
   "execution_count": 3,
   "id": "c41b4dae-a2e8-427a-8cc5-f3812980fa43",
   "metadata": {},
   "outputs": [
    {
     "name": "stdout",
     "output_type": "stream",
     "text": [
      "Canada\n"
     ]
    }
   ],
   "source": [
    "country = \"Canada\"\n",
    "print(country)"
   ]
  },
  {
   "cell_type": "code",
   "execution_count": 6,
   "id": "dcc245a2-3495-4732-8209-b7ee4f2343f6",
   "metadata": {},
   "outputs": [
    {
     "name": "stdout",
     "output_type": "stream",
     "text": [
      "True\n"
     ]
    }
   ],
   "source": [
    "likes_soccer = True\n",
    "print(likes_soccer)"
   ]
  },
  {
   "cell_type": "code",
   "execution_count": 13,
   "id": "14562b3b-55e3-481a-b95b-e66908ee52d1",
   "metadata": {},
   "outputs": [
    {
     "name": "stdout",
     "output_type": "stream",
     "text": [
      "22\n"
     ]
    }
   ],
   "source": [
    "a=12\n",
    "b=10\n",
    "sum=a+b\n",
    "print(sum)"
   ]
  },
  {
   "cell_type": "code",
   "execution_count": 10,
   "id": "ef7c6a3f-edc3-4dcb-8bc6-7461cf7ba0c6",
   "metadata": {},
   "outputs": [
    {
     "name": "stdout",
     "output_type": "stream",
     "text": [
      "Hello my name is Emmanuel\n",
      "I am 29 years old\n"
     ]
    }
   ],
   "source": [
    "name=\"Emmanuel\"\n",
    "age=29\n",
    "print(\"Hello my name is\", name)\n",
    "print(\"I am\", age, \"years old\")"
   ]
  },
  {
   "cell_type": "markdown",
   "id": "8d5411e0-db5e-474e-9d57-acab9054fdb2",
   "metadata": {},
   "source": [
    "### Practice 1: Personal Information"
   ]
  },
  {
   "cell_type": "code",
   "execution_count": 12,
   "id": "0387fb86-88f8-4902-b1eb-6080e0765d91",
   "metadata": {},
   "outputs": [
    {
     "name": "stdout",
     "output_type": "stream",
     "text": [
      "Hello my name is Emmanuel\n",
      "I enjoy taking pictures\n",
      "I live in Toronto\n"
     ]
    }
   ],
   "source": [
    "your_name= \"Emmanuel\"\n",
    "your_hobby= \"taking pictures\"\n",
    "your_city= \"Toronto\"\n",
    "print(\"Hello my name is\", your_name) \n",
    "print(\"I enjoy\", your_hobby)\n",
    "print(\"I live in\", your_city)"
   ]
  },
  {
   "cell_type": "markdown",
   "id": "84725de8-2b90-4a2a-a19e-99d15a5d391b",
   "metadata": {},
   "source": [
    "### Practice 2: Type Checker"
   ]
  },
  {
   "cell_type": "code",
   "execution_count": 15,
   "id": "10966b59-2c91-4b2f-9c08-82b42a78fd4f",
   "metadata": {},
   "outputs": [
    {
     "name": "stdout",
     "output_type": "stream",
     "text": [
      "<class 'str'>\n",
      "<class 'int'>\n",
      "<class 'float'>\n",
      "<class 'str'>\n"
     ]
    }
   ],
   "source": [
    "language=\"Python\"\n",
    "year_started=2024\n",
    "is_learning=40.5\n",
    "goal= \"Machine Learning Engineer\"\n",
    "\n",
    "print(type(language))\n",
    "print(type(year_started))\n",
    "print(type(is_learning))\n",
    "print(type(goal))"
   ]
  },
  {
   "cell_type": "markdown",
   "id": "18d28bfc-2f69-4b9c-b50e-bd4967df88b0",
   "metadata": {},
   "source": [
    "### Practice 3: Make a Fake Bio Generator"
   ]
  },
  {
   "cell_type": "code",
   "execution_count": 20,
   "id": "5a56f0d7-8d49-44b2-8101-2823f26c8603",
   "metadata": {},
   "outputs": [
    {
     "name": "stdout",
     "output_type": "stream",
     "text": [
      "My name is Emmanuel\n",
      "I am currently a CAD Technician and AI Learner\n",
      "I enjoy photography and playing soccer\n",
      "My goal is to become a machine learning engineer\n"
     ]
    }
   ],
   "source": [
    "name= \"Emmanuel\"\n",
    "profession= \"CAD Technician and AI Learner\"\n",
    "hobby=\"photography and playing soccer\"\n",
    "goal= \"become a machine learning engineer\"\n",
    "\n",
    "print(\"My name is\", name)\n",
    "print(\"I am currently a\", profession)\n",
    "print(\"I enjoy\", hobby)\n",
    "print(\"My goal is to\", goal)"
   ]
  },
  {
   "cell_type": "code",
   "execution_count": null,
   "id": "0b19be43-5a42-4aab-8311-f96ee25e2e70",
   "metadata": {},
   "outputs": [],
   "source": []
  }
 ],
 "metadata": {
  "kernelspec": {
   "display_name": "Python 3 (ipykernel)",
   "language": "python",
   "name": "python3"
  },
  "language_info": {
   "codemirror_mode": {
    "name": "ipython",
    "version": 3
   },
   "file_extension": ".py",
   "mimetype": "text/x-python",
   "name": "python",
   "nbconvert_exporter": "python",
   "pygments_lexer": "ipython3",
   "version": "3.12.3"
  }
 },
 "nbformat": 4,
 "nbformat_minor": 5
}
